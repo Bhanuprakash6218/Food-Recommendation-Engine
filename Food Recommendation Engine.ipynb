{
 "cells": [
  {
   "cell_type": "code",
   "execution_count": 2,
   "id": "d19d7ebf",
   "metadata": {},
   "outputs": [],
   "source": [
    "from IPython.core.interactiveshell import InteractiveShell\n",
    "InteractiveShell.ast_node_interactivity = \"all\"                                    "
   ]
  },
  {
   "cell_type": "code",
   "execution_count": 109,
   "id": "4c2ce8a5",
   "metadata": {},
   "outputs": [],
   "source": [
    "import pandas as pd \n",
    "import numpy as np"
   ]
  },
  {
   "cell_type": "markdown",
   "id": "e4c00dbb",
   "metadata": {},
   "source": [
    "# Importing database of food items"
   ]
  },
  {
   "cell_type": "code",
   "execution_count": 141,
   "id": "effbccc1",
   "metadata": {},
   "outputs": [
    {
     "data": {
      "text/html": [
       "<div>\n",
       "<style scoped>\n",
       "    .dataframe tbody tr th:only-of-type {\n",
       "        vertical-align: middle;\n",
       "    }\n",
       "\n",
       "    .dataframe tbody tr th {\n",
       "        vertical-align: top;\n",
       "    }\n",
       "\n",
       "    .dataframe thead th {\n",
       "        text-align: right;\n",
       "    }\n",
       "</style>\n",
       "<table border=\"1\" class=\"dataframe\">\n",
       "  <thead>\n",
       "    <tr style=\"text-align: right;\">\n",
       "      <th></th>\n",
       "      <th>food_id</th>\n",
       "      <th>title</th>\n",
       "      <th>price</th>\n",
       "      <th>num_orders</th>\n",
       "      <th>category</th>\n",
       "      <th>avg_rating</th>\n",
       "      <th>num_rating</th>\n",
       "      <th>tags</th>\n",
       "    </tr>\n",
       "  </thead>\n",
       "  <tbody>\n",
       "    <tr>\n",
       "      <th>0</th>\n",
       "      <td>1</td>\n",
       "      <td>Tandoori Chicken</td>\n",
       "      <td>150</td>\n",
       "      <td>164</td>\n",
       "      <td>non-veg</td>\n",
       "      <td>4.1</td>\n",
       "      <td>62</td>\n",
       "      <td>non-veg tandoori chicken</td>\n",
       "    </tr>\n",
       "    <tr>\n",
       "      <th>1</th>\n",
       "      <td>2</td>\n",
       "      <td>Special Kizhi Parotta</td>\n",
       "      <td>260</td>\n",
       "      <td>62</td>\n",
       "      <td>non-veg</td>\n",
       "      <td>3.5</td>\n",
       "      <td>31</td>\n",
       "      <td>non-veg parotta chicken</td>\n",
       "    </tr>\n",
       "    <tr>\n",
       "      <th>2</th>\n",
       "      <td>3</td>\n",
       "      <td>Basa Fish Tawa Grill</td>\n",
       "      <td>360</td>\n",
       "      <td>28</td>\n",
       "      <td>non-veg</td>\n",
       "      <td>4.0</td>\n",
       "      <td>14</td>\n",
       "      <td>non-veg fish grill</td>\n",
       "    </tr>\n",
       "    <tr>\n",
       "      <th>3</th>\n",
       "      <td>4</td>\n",
       "      <td>Chicken Fried Rice</td>\n",
       "      <td>230</td>\n",
       "      <td>67</td>\n",
       "      <td>non-veg</td>\n",
       "      <td>4.3</td>\n",
       "      <td>33</td>\n",
       "      <td>non-veg chicken rice</td>\n",
       "    </tr>\n",
       "    <tr>\n",
       "      <th>4</th>\n",
       "      <td>5</td>\n",
       "      <td>Tawa Pepper Bbq Chicken</td>\n",
       "      <td>290</td>\n",
       "      <td>10</td>\n",
       "      <td>non-veg</td>\n",
       "      <td>4.8</td>\n",
       "      <td>5</td>\n",
       "      <td>non-veg chicken bbq</td>\n",
       "    </tr>\n",
       "  </tbody>\n",
       "</table>\n",
       "</div>"
      ],
      "text/plain": [
       "   food_id                    title  price  num_orders  category  avg_rating  \\\n",
       "0        1         Tandoori Chicken    150         164   non-veg         4.1   \n",
       "1        2    Special Kizhi Parotta    260          62   non-veg         3.5   \n",
       "2        3     Basa Fish Tawa Grill    360          28   non-veg         4.0   \n",
       "3        4       Chicken Fried Rice    230          67   non-veg         4.3   \n",
       "4        5  Tawa Pepper Bbq Chicken    290          10   non-veg         4.8   \n",
       "\n",
       "   num_rating                      tags  \n",
       "0          62  non-veg tandoori chicken  \n",
       "1          31   non-veg parotta chicken  \n",
       "2          14        non-veg fish grill  \n",
       "3          33      non-veg chicken rice  \n",
       "4           5       non-veg chicken bbq  "
      ]
     },
     "execution_count": 141,
     "metadata": {},
     "output_type": "execute_result"
    }
   ],
   "source": [
    "df=pd.read_csv('palmshore-Menu.csv')\n",
    "df.columns = ['food_id','title','price', 'num_orders', 'category', 'avg_rating', 'num_rating', 'tags']\n",
    "df.head()"
   ]
  },
  {
   "cell_type": "code",
   "execution_count": 121,
   "id": "33ecf3c8",
   "metadata": {},
   "outputs": [],
   "source": [
    "# mean of average ratings of all items\n",
    "avg_rmean=df['avg_rating'].mean()\n",
    "\n",
    "# the minimum number of votes required to appear in recommendation list, i.e, 60th percentile among 'num_rating'\n",
    "min_votes= df['num_rating'].quantile(0.9)\n",
    "\n",
    "# items that qualify the criteria of minimum num of votes\n",
    "qualified_items=df.copy().loc[df['num_rating']>=min_votes]\n",
    "\n",
    "# Calculation of weighted rating based on the IMDB formula\n",
    "def weighted_rating(x, min_votes=min_votes, avg_rmean=avg_rmean):\n",
    "    v = x['num_rating']\n",
    "    R = x['avg_rating']\n",
    "    return (v/(v+min_votes) * R) + (min_votes/(min_votes+v) * avg_rmean)\n",
    "\n",
    "# Applying weighted_rating to qualified items\n",
    "qualified_items['score']=qualified_items.apply(weighted_rating,axis=1)\n",
    "\n",
    "#shortlisting the top rated items and popular items\n",
    "top_rated_items=qualified_items.sort_values('score',ascending=False)\n",
    "popular_items=df.sort_values('num_orders',ascending=False)"
   ]
  },
  {
   "cell_type": "markdown",
   "id": "bd4a2122",
   "metadata": {},
   "source": [
    "# Get Top Rated Items"
   ]
  },
  {
   "cell_type": "code",
   "execution_count": 130,
   "id": "dcb82c81",
   "metadata": {},
   "outputs": [
    {
     "data": {
      "text/html": [
       "<style  type=\"text/css\" >\n",
       "</style><table id=\"T_deb69_\" ><thead>    <tr>        <th class=\"col_heading level0 col0\" >title</th>    </tr></thead><tbody>\n",
       "                <tr>\n",
       "                                <td id=\"T_deb69_row0_col0\" class=\"data row0 col0\" >Mix Noodles Non Veg</td>\n",
       "            </tr>\n",
       "            <tr>\n",
       "                                <td id=\"T_deb69_row1_col0\" class=\"data row1 col0\" >Chilly Prawn Dry</td>\n",
       "            </tr>\n",
       "            <tr>\n",
       "                                <td id=\"T_deb69_row2_col0\" class=\"data row2 col0\" >Chicken Fried Rice</td>\n",
       "            </tr>\n",
       "            <tr>\n",
       "                                <td id=\"T_deb69_row3_col0\" class=\"data row3 col0\" >Tandoori Chicken</td>\n",
       "            </tr>\n",
       "            <tr>\n",
       "                                <td id=\"T_deb69_row4_col0\" class=\"data row4 col0\" >Paya Pepper Masala</td>\n",
       "            </tr>\n",
       "    </tbody></table>"
      ],
      "text/plain": [
       "<pandas.io.formats.style.Styler at 0x211fe2ba670>"
      ]
     },
     "execution_count": 130,
     "metadata": {},
     "output_type": "execute_result"
    }
   ],
   "source": [
    "top_rated_items[['title']][:5].style.hide_index()"
   ]
  },
  {
   "cell_type": "markdown",
   "id": "2b585230",
   "metadata": {},
   "source": [
    "# Get Popular Items"
   ]
  },
  {
   "cell_type": "code",
   "execution_count": 131,
   "id": "818c8fb1",
   "metadata": {},
   "outputs": [
    {
     "data": {
      "text/html": [
       "<style  type=\"text/css\" >\n",
       "</style><table id=\"T_16dab_\" ><thead>    <tr>        <th class=\"col_heading level0 col0\" >title</th>    </tr></thead><tbody>\n",
       "                <tr>\n",
       "                                <td id=\"T_16dab_row0_col0\" class=\"data row0 col0\" >Tandoori Chicken</td>\n",
       "            </tr>\n",
       "            <tr>\n",
       "                                <td id=\"T_16dab_row1_col0\" class=\"data row1 col0\" >Tandoori Paratha Combo</td>\n",
       "            </tr>\n",
       "            <tr>\n",
       "                                <td id=\"T_16dab_row2_col0\" class=\"data row2 col0\" >Chicken Fried Rice</td>\n",
       "            </tr>\n",
       "            <tr>\n",
       "                                <td id=\"T_16dab_row3_col0\" class=\"data row3 col0\" >Singapore Tiger Prawn</td>\n",
       "            </tr>\n",
       "            <tr>\n",
       "                                <td id=\"T_16dab_row4_col0\" class=\"data row4 col0\" >Special Kizhi Parotta</td>\n",
       "            </tr>\n",
       "    </tbody></table>"
      ],
      "text/plain": [
       "<pandas.io.formats.style.Styler at 0x211ffe6c700>"
      ]
     },
     "execution_count": 131,
     "metadata": {},
     "output_type": "execute_result"
    }
   ],
   "source": [
    "popular_items[['title']][:5].style.hide_index()"
   ]
  },
  {
   "cell_type": "code",
   "execution_count": 153,
   "id": "9a2206e1",
   "metadata": {},
   "outputs": [],
   "source": [
    "from sklearn.feature_extraction.text import CountVectorizer\n",
    "count = CountVectorizer(stop_words='english')\n",
    "\n",
    "count_matrix = count.fit_transform(df['tags'])\n",
    "\n",
    "from sklearn.metrics.pairwise import cosine_similarity\n",
    "cosine_sim = cosine_similarity(count_matrix, count_matrix)\n",
    "\n",
    "indices_from_title = pd.Series(df.index, index=df['title'])\n",
    "indices_from_food_id = pd.Series(df.index, index=df['food_id'])\n"
   ]
  },
  {
   "cell_type": "markdown",
   "id": "b7cd7fb0",
   "metadata": {},
   "source": [
    "# Get Recommendations based on title"
   ]
  },
  {
   "cell_type": "code",
   "execution_count": 154,
   "id": "6d521fd4",
   "metadata": {},
   "outputs": [],
   "source": [
    "def get_recommendations(title=\"\", cosine_sim=cosine_sim, idx=-1):\n",
    "    if idx == -1 and title != \"\":\n",
    "        idx = indices_from_title[title]\n",
    "    sim_scores = list(enumerate(cosine_sim[idx]))\n",
    "\n",
    "    sim_scores = sorted(sim_scores, key=lambda x: x[1], reverse=True)\n",
    "    \n",
    "    sim_scores = sim_scores[:len(sim_scores)]\n",
    "\n",
    "    food_indices = [i[0] for i in sim_scores]\n",
    "    return food_indices\n"
   ]
  },
  {
   "cell_type": "code",
   "execution_count": 163,
   "id": "6d73aafe",
   "metadata": {},
   "outputs": [
    {
     "data": {
      "text/html": [
       "<style  type=\"text/css\" >\n",
       "</style><table id=\"T_e4126_\" ><thead>    <tr>        <th class=\"col_heading level0 col0\" >title</th>    </tr></thead><tbody>\n",
       "                <tr>\n",
       "                                <td id=\"T_e4126_row0_col0\" class=\"data row0 col0\" >Gobi Manchurian Gravy</td>\n",
       "            </tr>\n",
       "            <tr>\n",
       "                                <td id=\"T_e4126_row1_col0\" class=\"data row1 col0\" >Gobi 65</td>\n",
       "            </tr>\n",
       "            <tr>\n",
       "                                <td id=\"T_e4126_row2_col0\" class=\"data row2 col0\" >Gobi Chilly Dry</td>\n",
       "            </tr>\n",
       "            <tr>\n",
       "                                <td id=\"T_e4126_row3_col0\" class=\"data row3 col0\" >Gobi Manchurian Dry</td>\n",
       "            </tr>\n",
       "            <tr>\n",
       "                                <td id=\"T_e4126_row4_col0\" class=\"data row4 col0\" >Gobi Chilly Gravy</td>\n",
       "            </tr>\n",
       "    </tbody></table>"
      ],
      "text/plain": [
       "<pandas.io.formats.style.Styler at 0x211ffee30d0>"
      ]
     },
     "execution_count": 163,
     "metadata": {},
     "output_type": "execute_result"
    }
   ],
   "source": [
    "df.loc[get_recommendations(title='Gobi 65')][:5][['title']].style.hide_index()"
   ]
  },
  {
   "cell_type": "code",
   "execution_count": null,
   "id": "a4891124",
   "metadata": {},
   "outputs": [],
   "source": []
  }
 ],
 "metadata": {
  "kernelspec": {
   "display_name": "Python 3",
   "language": "python",
   "name": "python3"
  },
  "language_info": {
   "codemirror_mode": {
    "name": "ipython",
    "version": 3
   },
   "file_extension": ".py",
   "mimetype": "text/x-python",
   "name": "python",
   "nbconvert_exporter": "python",
   "pygments_lexer": "ipython3",
   "version": "3.8.8"
  }
 },
 "nbformat": 4,
 "nbformat_minor": 5
}
